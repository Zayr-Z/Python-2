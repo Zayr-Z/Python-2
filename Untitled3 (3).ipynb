{
 "cells": [
  {
   "cell_type": "code",
   "execution_count": 3,
   "id": "fe502223-8ba1-4b03-91ab-5482d7e0426d",
   "metadata": {},
   "outputs": [],
   "source": [
    "year = 2024"
   ]
  },
  {
   "cell_type": "code",
   "execution_count": 5,
   "id": "b1ca4dde-b8d3-48b8-90ce-e040dd02a300",
   "metadata": {},
   "outputs": [
    {
     "name": "stdout",
     "output_type": "stream",
     "text": [
      "2024\n"
     ]
    }
   ],
   "source": [
    "print(year)"
   ]
  },
  {
   "cell_type": "code",
   "execution_count": 10,
   "id": "65e4a84c-6e19-4c01-a18d-32f1c686d6f2",
   "metadata": {},
   "outputs": [],
   "source": [
    "#this instruction will not print beacuse of this symbol usage\n",
    "institution = \"ICTAK\""
   ]
  },
  {
   "cell_type": "code",
   "execution_count": 12,
   "id": "6eae03fd-3152-4171-afc6-529a55be1848",
   "metadata": {},
   "outputs": [
    {
     "name": "stdout",
     "output_type": "stream",
     "text": [
      "ICTAK\n"
     ]
    }
   ],
   "source": [
    "print(institution)"
   ]
  },
  {
   "cell_type": "code",
   "execution_count": null,
   "id": "95e6ecc1-797e-41c1-bd64-f96193938717",
   "metadata": {},
   "outputs": [],
   "source": [
    "###Comments"
   ]
  },
  {
   "cell_type": "code",
   "execution_count": 24,
   "id": "4bec9bdb-81a5-47fe-9303-43763aa3288b",
   "metadata": {
    "scrolled": true
   },
   "outputs": [
    {
     "data": {
      "text/plain": [
       "int"
      ]
     },
     "execution_count": 24,
     "metadata": {},
     "output_type": "execute_result"
    }
   ],
   "source": [
    "#we can chcek data type using builtin function\n",
    "type(5)"
   ]
  },
  {
   "cell_type": "code",
   "execution_count": 26,
   "id": "f87b0f5b-c5d3-4bfe-9b73-f1bd172fdd8c",
   "metadata": {},
   "outputs": [
    {
     "data": {
      "text/plain": [
       "float"
      ]
     },
     "execution_count": 26,
     "metadata": {},
     "output_type": "execute_result"
    }
   ],
   "source": [
    "type(5.5)"
   ]
  },
  {
   "cell_type": "code",
   "execution_count": 77,
   "id": "62cb4b0f-3adb-4217-ad89-be5e5de6bce7",
   "metadata": {},
   "outputs": [
    {
     "name": "stdout",
     "output_type": "stream",
     "text": [
      "2.2\n",
      "asd\n"
     ]
    }
   ],
   "source": [
    "d=1+1.2\n",
    "a=\"asd\"\n",
    "print(d)\n",
    "print(a)"
   ]
  },
  {
   "cell_type": "markdown",
   "id": "5dd72895-9072-4d29-8972-ea02ff3df2c4",
   "metadata": {},
   "source": [
    "#Sequence Types"
   ]
  },
  {
   "cell_type": "code",
   "execution_count": 89,
   "id": "b2cecfa1-0284-44f4-85b3-0266ce997bea",
   "metadata": {},
   "outputs": [
    {
     "name": "stdout",
     "output_type": "stream",
     "text": [
      "1\n",
      "o\n",
      "['a', 'e', 'i', 'x', 'u']\n"
     ]
    },
    {
     "ename": "NameError",
     "evalue": "name 'append' is not defined",
     "output_type": "error",
     "traceback": [
      "\u001b[1;31m---------------------------------------------------------------------------\u001b[0m",
      "\u001b[1;31mNameError\u001b[0m                                 Traceback (most recent call last)",
      "Cell \u001b[1;32mIn[89], line 8\u001b[0m\n\u001b[0;32m      6\u001b[0m \u001b[38;5;28mprint\u001b[39m(vowels)\n\u001b[0;32m      7\u001b[0m \u001b[38;5;28mlen\u001b[39m(vowels)\n\u001b[1;32m----> 8\u001b[0m append\u001b[38;5;241m.\u001b[39mvowels\u001b[38;5;241m=\u001b[39m\u001b[38;5;124m\"\u001b[39m\u001b[38;5;124my\u001b[39m\u001b[38;5;124m\"\u001b[39m\n",
      "\u001b[1;31mNameError\u001b[0m: name 'append' is not defined"
     ]
    }
   ],
   "source": [
    "digits =[0, 1, 2, 3, 4, 5, 6, 7, 8, 9]\n",
    "print(digits[1])\n",
    "vowels = ['a', 'e', 'i', 'o', 'u']\n",
    "print(vowels[3])\n",
    "vowels[3]=\"x\"\n",
    "print(vowels)\n",
    "len(vowels)\n"
   ]
  },
  {
   "cell_type": "code",
   "execution_count": 9,
   "id": "87b09a46-975d-42db-bbe2-f8027e9be6ba",
   "metadata": {},
   "outputs": [
    {
     "data": {
      "text/plain": [
       "6"
      ]
     },
     "execution_count": 9,
     "metadata": {},
     "output_type": "execute_result"
    }
   ],
   "source": [
    "digits = [[1, 3, 5, 7, 9], [2, 4, 6, 8, 10]]\n",
    "len(digits)\n",
    "abc = [1, 2, 3, 4, 5, 6]\n",
    "len(abc)"
   ]
  },
  {
   "cell_type": "code",
   "execution_count": 61,
   "id": "e7a61f73-8804-4e31-a71d-a1ee8cf83c8b",
   "metadata": {},
   "outputs": [],
   "source": [
    "grocery = [\"Apple\", 5, \"Orange\", 10]"
   ]
  },
  {
   "cell_type": "code",
   "execution_count": 63,
   "id": "aba8e877-2f66-431d-bbc4-c58c8069bfda",
   "metadata": {},
   "outputs": [],
   "source": [
    "grocery[0] = \"Grape\""
   ]
  },
  {
   "cell_type": "code",
   "execution_count": 65,
   "id": "841627e4-65b4-43ba-ba3d-e637f2c89d5b",
   "metadata": {},
   "outputs": [
    {
     "name": "stdout",
     "output_type": "stream",
     "text": [
      "['Grape', 5, 'Orange', 10]\n"
     ]
    }
   ],
   "source": [
    "print(grocery)"
   ]
  },
  {
   "cell_type": "markdown",
   "id": "7ab000f3-a109-4885-ac3e-2f46a9b5f146",
   "metadata": {},
   "source": [
    "#Tuple"
   ]
  },
  {
   "cell_type": "markdown",
   "id": "cfde5225-2926-49af-8943-7320286f41b8",
   "metadata": {},
   "source": [
    "##Tuples are immutable"
   ]
  },
  {
   "cell_type": "code",
   "execution_count": 95,
   "id": "618fd208-a904-4572-8791-80e739b115c9",
   "metadata": {},
   "outputs": [
    {
     "name": "stdout",
     "output_type": "stream",
     "text": [
      "(1, 2, 3, 4, 5)\n"
     ]
    }
   ],
   "source": [
    "tuple1 = (1, 2, 3, 4, 5)\n",
    "print(tuple1)"
   ]
  },
  {
   "cell_type": "markdown",
   "id": "69394bcc-1ed5-488b-afa8-8c4670c86cff",
   "metadata": {},
   "source": [
    "#RANGE"
   ]
  },
  {
   "cell_type": "markdown",
   "id": "ceff399c-9772-465a-858d-aea0ed8eaadb",
   "metadata": {},
   "source": [
    "##Range are immutable used to skip easily by our requirments"
   ]
  },
  {
   "cell_type": "code",
   "execution_count": 113,
   "id": "c2cf620d-95fd-426c-86d8-f534b0388ab8",
   "metadata": {},
   "outputs": [
    {
     "name": "stdout",
     "output_type": "stream",
     "text": [
      "[0, 2, 4, 6, 8]\n"
     ]
    }
   ],
   "source": [
    "#range(0, 10, 2)\n",
    "a = list(range(0, 10, 2))\n",
    "print(a)"
   ]
  },
  {
   "cell_type": "code",
   "execution_count": 115,
   "id": "64950d6b-b4ab-4337-848f-b1dc33735555",
   "metadata": {},
   "outputs": [
    {
     "name": "stdout",
     "output_type": "stream",
     "text": [
      "(0, 2, 4, 6, 8)\n"
     ]
    }
   ],
   "source": [
    "#range(0, 10, 2)\n",
    "a = tuple(range(0, 10, 2))\n",
    "print(a)"
   ]
  },
  {
   "cell_type": "markdown",
   "id": "04141766-b457-4743-9b2f-c63a4a1c903a",
   "metadata": {},
   "source": [
    "#Mapping Type"
   ]
  },
  {
   "cell_type": "markdown",
   "id": "fba58381-9800-4716-86a0-32daddb23906",
   "metadata": {},
   "source": [
    "##1. Dictionary"
   ]
  },
  {
   "cell_type": "code",
   "execution_count": 131,
   "id": "eb7a0a4f-0c30-4750-9b80-c2bcab5424cc",
   "metadata": {},
   "outputs": [],
   "source": [
    "data = {\n",
    "    \"institute\": \"ICTAK\",\n",
    "    \"City\": \"TVM\",\n",
    "    \"Location\": \"KZKTM\"\n",
    "}"
   ]
  },
  {
   "cell_type": "code",
   "execution_count": 133,
   "id": "b15d20ba-e768-4f86-949a-cf85d8c3ca5b",
   "metadata": {},
   "outputs": [
    {
     "name": "stdout",
     "output_type": "stream",
     "text": [
      "{'institute': 'ICTAK', 'City': 'TVM', 'Location': 'KZKTM'}\n"
     ]
    }
   ],
   "source": [
    "print(data)"
   ]
  },
  {
   "cell_type": "code",
   "execution_count": 135,
   "id": "ecfed3cd-1561-457a-8169-69854314c59a",
   "metadata": {},
   "outputs": [],
   "source": [
    "Contact = {\n",
    "    \"Name\": \"AXAE\",\n",
    "    \"SEX\": \"Male\",\n",
    "    \"Age\" : '29',\n",
    "    \"phone no\": '123456789'\n",
    "}"
   ]
  },
  {
   "cell_type": "code",
   "execution_count": 137,
   "id": "e21e29d0-c148-4e33-992d-ce4a399583e1",
   "metadata": {},
   "outputs": [
    {
     "name": "stdout",
     "output_type": "stream",
     "text": [
      "{'Name': 'AXAE', 'SEX': 'Male', 'Age': '29', 'phone no': '123456789'}\n"
     ]
    }
   ],
   "source": [
    "print(Contact)"
   ]
  },
  {
   "cell_type": "markdown",
   "id": "68c11920-3f86-48bf-98bc-631bd5d8f2e7",
   "metadata": {},
   "source": [
    "##if we need to add any data in variable \"data\""
   ]
  },
  {
   "cell_type": "code",
   "execution_count": 140,
   "id": "da12cccd-5453-4652-af07-28449f509906",
   "metadata": {},
   "outputs": [],
   "source": [
    "data[\"State\"] = \"Kerala\""
   ]
  },
  {
   "cell_type": "code",
   "execution_count": 142,
   "id": "6311db6c-cdd9-4ba2-b960-3de3a1268110",
   "metadata": {},
   "outputs": [
    {
     "name": "stdout",
     "output_type": "stream",
     "text": [
      "{'institute': 'ICTAK', 'City': 'TVM', 'Location': 'KZKTM', 'State': 'Kerala'}\n"
     ]
    }
   ],
   "source": [
    "print(data)"
   ]
  },
  {
   "cell_type": "code",
   "execution_count": 147,
   "id": "066a9f3a-767f-446b-b99c-fabd34a908e0",
   "metadata": {},
   "outputs": [
    {
     "data": {
      "text/plain": [
       "dict_keys(['institute', 'City', 'Location', 'State'])"
      ]
     },
     "execution_count": 147,
     "metadata": {},
     "output_type": "execute_result"
    }
   ],
   "source": [
    "#Accessing the values only from a dictionary\n",
    "data.keys()"
   ]
  },
  {
   "cell_type": "code",
   "execution_count": 149,
   "id": "99163876-7f43-4dd5-879f-e349eca6d627",
   "metadata": {},
   "outputs": [
    {
     "data": {
      "text/plain": [
       "dict_values(['ICTAK', 'TVM', 'KZKTM', 'Kerala'])"
      ]
     },
     "execution_count": 149,
     "metadata": {},
     "output_type": "execute_result"
    }
   ],
   "source": [
    "#Accessing the values only for a dictionary\n",
    "data.values()"
   ]
  },
  {
   "cell_type": "markdown",
   "id": "b0dd6780-a7c7-4463-8f74-11faf7fd9712",
   "metadata": {},
   "source": [
    "##TO access values or keys we can use the above method, type variable and dot then what we need values, keys or anything"
   ]
  },
  {
   "cell_type": "markdown",
   "id": "1330b77f-601a-4f74-bcd9-d41d222ef29a",
   "metadata": {},
   "source": [
    "#SET TYPE"
   ]
  },
  {
   "cell_type": "markdown",
   "id": "91d54583-3edc-48b4-8a5b-59d43613c2c5",
   "metadata": {},
   "source": [
    "#In pyhton a set is an unordered collection of unique items"
   ]
  },
  {
   "cell_type": "code",
   "execution_count": 156,
   "id": "79def263-df9d-4ea5-b77f-c014ec991c80",
   "metadata": {},
   "outputs": [
    {
     "name": "stdout",
     "output_type": "stream",
     "text": [
      "{1, 2, 3, 4, 5, 6, 7, 8, 9}\n"
     ]
    }
   ],
   "source": [
    "#Creating a set using\n",
    "my_set = {1, 2, 3, 4, 5, 6, 7, 8, 9, 8}\n",
    "print(my_set)"
   ]
  },
  {
   "cell_type": "code",
   "execution_count": 158,
   "id": "2a0ee7b2-a6d8-4ede-9742-418db8fd8644",
   "metadata": {},
   "outputs": [
    {
     "name": "stdout",
     "output_type": "stream",
     "text": [
      "{0, 1, 2, 8, 9}\n"
     ]
    }
   ],
   "source": [
    "num = {1, 1, 1, 8, 9, 8, 8, 2, 2, 0, 0}\n",
    "print(num)"
   ]
  },
  {
   "cell_type": "markdown",
   "id": "2eb1a0da-69bc-4ca9-93e8-5a3f6afcc5b6",
   "metadata": {},
   "source": [
    "#Boolean Type"
   ]
  },
  {
   "cell_type": "code",
   "execution_count": 161,
   "id": "36490074-b16f-4a5a-bd3b-ffa3e5241a2f",
   "metadata": {},
   "outputs": [
    {
     "name": "stdout",
     "output_type": "stream",
     "text": [
      "False\n"
     ]
    }
   ],
   "source": [
    "print(10>20)"
   ]
  },
  {
   "cell_type": "code",
   "execution_count": 163,
   "id": "19f4fde8-186c-44bf-8a21-a589cc7efbc8",
   "metadata": {},
   "outputs": [
    {
     "data": {
      "text/plain": [
       "True"
      ]
     },
     "execution_count": 163,
     "metadata": {},
     "output_type": "execute_result"
    }
   ],
   "source": [
    "3 == 3.0"
   ]
  },
  {
   "cell_type": "code",
   "execution_count": 167,
   "id": "60396b27-91a6-477b-9f86-9bdcba7c098b",
   "metadata": {},
   "outputs": [
    {
     "data": {
      "text/plain": [
       "False"
      ]
     },
     "execution_count": 167,
     "metadata": {},
     "output_type": "execute_result"
    }
   ],
   "source": [
    "10.0004 == 10.0006"
   ]
  },
  {
   "cell_type": "code",
   "execution_count": 169,
   "id": "c33b6fbc-1f79-406b-8847-774f2315143b",
   "metadata": {},
   "outputs": [
    {
     "data": {
      "text/plain": [
       "True"
      ]
     },
     "execution_count": 169,
     "metadata": {},
     "output_type": "execute_result"
    }
   ],
   "source": [
    "10 != 9"
   ]
  },
  {
   "cell_type": "markdown",
   "id": "d1f9b80f-266f-47cd-bdb0-d46df11705ac",
   "metadata": {},
   "source": [
    "#Boolean type is used to check weather the value is true or False"
   ]
  },
  {
   "cell_type": "markdown",
   "id": "44c989ed-382e-4bcd-8c23-fe61bbbbd08c",
   "metadata": {},
   "source": [
    "#None Type"
   ]
  },
  {
   "cell_type": "code",
   "execution_count": 174,
   "id": "77152493-ed17-481b-a2a8-885d9dee6f8a",
   "metadata": {},
   "outputs": [],
   "source": [
    "status = None"
   ]
  },
  {
   "cell_type": "code",
   "execution_count": 176,
   "id": "da7c10cb-8ea3-4661-b18a-78a227c0bb74",
   "metadata": {},
   "outputs": [
    {
     "name": "stdout",
     "output_type": "stream",
     "text": [
      "None\n"
     ]
    }
   ],
   "source": [
    "print(status)"
   ]
  },
  {
   "cell_type": "code",
   "execution_count": 178,
   "id": "7450f2e2-61b2-4574-bd58-cf47d5e66dbf",
   "metadata": {},
   "outputs": [
    {
     "data": {
      "text/plain": [
       "NoneType"
      ]
     },
     "execution_count": 178,
     "metadata": {},
     "output_type": "execute_result"
    }
   ],
   "source": [
    "type(status)"
   ]
  },
  {
   "cell_type": "markdown",
   "id": "ac8fb930-6c50-4625-8474-206bef3fed8e",
   "metadata": {},
   "source": [
    "#Opertors in Python"
   ]
  },
  {
   "cell_type": "markdown",
   "id": "65b4b4a2-c18e-4e2b-b816-9b88ad7de060",
   "metadata": {},
   "source": [
    "##1. Arithematic operation"
   ]
  },
  {
   "cell_type": "code",
   "execution_count": 186,
   "id": "b5b5a7da-6050-4ec0-97b0-b3fd2c391c80",
   "metadata": {},
   "outputs": [
    {
     "data": {
      "text/plain": [
       "8"
      ]
     },
     "execution_count": 186,
     "metadata": {},
     "output_type": "execute_result"
    }
   ],
   "source": [
    "5+3"
   ]
  },
  {
   "cell_type": "code",
   "execution_count": 188,
   "id": "2dac0c4a-d42d-4b55-ba13-3ee9faf58314",
   "metadata": {},
   "outputs": [
    {
     "data": {
      "text/plain": [
       "3"
      ]
     },
     "execution_count": 188,
     "metadata": {},
     "output_type": "execute_result"
    }
   ],
   "source": [
    "8-5"
   ]
  },
  {
   "cell_type": "code",
   "execution_count": 190,
   "id": "8518651d-2bae-4d39-b74b-2098abe67861",
   "metadata": {},
   "outputs": [
    {
     "data": {
      "text/plain": [
       "8.0"
      ]
     },
     "execution_count": 190,
     "metadata": {},
     "output_type": "execute_result"
    }
   ],
   "source": [
    "16/2"
   ]
  },
  {
   "cell_type": "code",
   "execution_count": 192,
   "id": "81b6e2c6-bc8f-40be-a75c-6e08d9943d57",
   "metadata": {},
   "outputs": [
    {
     "data": {
      "text/plain": [
       "8"
      ]
     },
     "execution_count": 192,
     "metadata": {},
     "output_type": "execute_result"
    }
   ],
   "source": [
    "4*2"
   ]
  },
  {
   "cell_type": "code",
   "execution_count": 261,
   "id": "59234148-97dd-4c77-9e98-b69febc19148",
   "metadata": {},
   "outputs": [
    {
     "name": "stdout",
     "output_type": "stream",
     "text": [
      "7\n",
      "1\n"
     ]
    }
   ],
   "source": [
    "#Modulos\n",
    "a = 7\n",
    "b = 9\n",
    "c = a%b\n",
    "print(c)\n",
    "a = 10\n",
    "b = 3\n",
    "c = a%b\n",
    "print(c)\n",
    "#Modulas is used to get the reminder when divide two numbers"
   ]
  },
  {
   "cell_type": "code",
   "execution_count": 196,
   "id": "08d56923-1434-48b2-a8a3-08ac129d4921",
   "metadata": {},
   "outputs": [
    {
     "name": "stdout",
     "output_type": "stream",
     "text": [
      "0.6\n",
      "0.6\n"
     ]
    }
   ],
   "source": [
    "a = 3\n",
    "b = 5\n",
    "c = a/b\n",
    "print(a/b) \n",
    "print(c)"
   ]
  },
  {
   "cell_type": "markdown",
   "id": "0affe7a2-6bde-437a-9ba8-7c9e28f45808",
   "metadata": {},
   "source": [
    "#Exponentaion"
   ]
  },
  {
   "cell_type": "code",
   "execution_count": 199,
   "id": "96f4756e-e9cd-451d-bd37-496d62758b15",
   "metadata": {},
   "outputs": [
    {
     "name": "stdout",
     "output_type": "stream",
     "text": [
      "256\n"
     ]
    }
   ],
   "source": [
    "a = 4\n",
    "b = 4\n",
    "c = a**b\n",
    "print(c)"
   ]
  },
  {
   "cell_type": "markdown",
   "id": "5cd09ad0-bab6-4853-b68f-2785830c4858",
   "metadata": {},
   "source": [
    "#Assignment operation"
   ]
  },
  {
   "cell_type": "code",
   "execution_count": 206,
   "id": "3302ffcc-0f39-406d-a486-af5511833b4e",
   "metadata": {},
   "outputs": [
    {
     "name": "stdout",
     "output_type": "stream",
     "text": [
      "10\n"
     ]
    }
   ],
   "source": [
    " #equals\n",
    "x = 10\n",
    "print(x)\n"
   ]
  },
  {
   "cell_type": "markdown",
   "id": "307be177-6f8a-4eb3-bb27-4b7943b98fdb",
   "metadata": {},
   "source": [
    "#Comparison"
   ]
  },
  {
   "cell_type": "code",
   "execution_count": 209,
   "id": "cb6d1826-cf96-4b97-ac41-f1fc5ba0c2ef",
   "metadata": {},
   "outputs": [
    {
     "data": {
      "text/plain": [
       "False"
      ]
     },
     "execution_count": 209,
     "metadata": {},
     "output_type": "execute_result"
    }
   ],
   "source": [
    "#Equals\n",
    "a = 5\n",
    "b = 8\n",
    "a == b"
   ]
  },
  {
   "cell_type": "code",
   "execution_count": 211,
   "id": "2d01d537-678e-4b93-a1ae-b5d7032a3eae",
   "metadata": {},
   "outputs": [
    {
     "data": {
      "text/plain": [
       "False"
      ]
     },
     "execution_count": 211,
     "metadata": {},
     "output_type": "execute_result"
    }
   ],
   "source": [
    "#Greator than or equal to \n",
    "a = 4\n",
    "b = 8\n",
    "a >= b"
   ]
  },
  {
   "cell_type": "markdown",
   "id": "4a0d5527-1b41-4312-abd0-e5d99a9a95a1",
   "metadata": {},
   "source": [
    "#Logical operation"
   ]
  },
  {
   "cell_type": "code",
   "execution_count": 216,
   "id": "87f2d1ce-e847-4e20-94a9-bf1354cdc758",
   "metadata": {},
   "outputs": [
    {
     "name": "stdout",
     "output_type": "stream",
     "text": [
      "True\n"
     ]
    }
   ],
   "source": [
    "# AND\n",
    "print(True and True)"
   ]
  },
  {
   "cell_type": "code",
   "execution_count": 218,
   "id": "6b0934ed-77cb-4227-92aa-ae55c14767ad",
   "metadata": {},
   "outputs": [
    {
     "name": "stdout",
     "output_type": "stream",
     "text": [
      "True\n"
     ]
    }
   ],
   "source": [
    "# OR\n",
    "print(True or False)"
   ]
  },
  {
   "cell_type": "code",
   "execution_count": 228,
   "id": "36c8740d-c6e9-4886-a707-a6325e958677",
   "metadata": {},
   "outputs": [
    {
     "name": "stdout",
     "output_type": "stream",
     "text": [
      "True\n"
     ]
    }
   ],
   "source": [
    "# NOT\n",
    "print(not False)"
   ]
  },
  {
   "cell_type": "markdown",
   "id": "bcd798d2-dd2c-4545-942b-7cceb5d115f9",
   "metadata": {},
   "source": [
    "#Membership operation"
   ]
  },
  {
   "cell_type": "code",
   "execution_count": 233,
   "id": "fc7e03c3-6841-4d2a-ad09-b326dceadb44",
   "metadata": {},
   "outputs": [
    {
     "name": "stdout",
     "output_type": "stream",
     "text": [
      "True\n"
     ]
    }
   ],
   "source": [
    "# IN\n",
    "print(1 in {1, 2, 3})"
   ]
  },
  {
   "cell_type": "code",
   "execution_count": 239,
   "id": "9c456c03-2950-4037-b8fe-eb5abb7d3bf9",
   "metadata": {},
   "outputs": [
    {
     "name": "stdout",
     "output_type": "stream",
     "text": [
      "False\n"
     ]
    }
   ],
   "source": [
    "#NOT IN\n",
    "print(1 not in {1, 2, 3})"
   ]
  },
  {
   "cell_type": "markdown",
   "id": "f37eb7f6-bc42-48f3-892f-0c92e362a3c0",
   "metadata": {},
   "source": [
    "#Identity Operation"
   ]
  },
  {
   "cell_type": "markdown",
   "id": "5ec02039-149a-4c1a-a391-98cd07ee121e",
   "metadata": {},
   "source": [
    "#Chcek if two variables refer to the same objectn in memory"
   ]
  },
  {
   "cell_type": "code",
   "execution_count": 274,
   "id": "1179a47e-1d44-4a40-b844-15827bd5d4fd",
   "metadata": {},
   "outputs": [
    {
     "name": "stdout",
     "output_type": "stream",
     "text": [
      "10\n",
      "10\n",
      "True\n",
      "False\n"
     ]
    }
   ],
   "source": [
    "#IS\n",
    "a = 10\n",
    "b = 10 \n",
    "print(a)\n",
    "print(b)\n",
    "print(a is b)\n",
    "a = 8\n",
    "b = 10\n",
    "print(a is b)"
   ]
  },
  {
   "cell_type": "code",
   "execution_count": 249,
   "id": "832bd5e9-20bc-4260-bc90-202b893c22d1",
   "metadata": {},
   "outputs": [
    {
     "name": "stdout",
     "output_type": "stream",
     "text": [
      "False\n"
     ]
    }
   ],
   "source": [
    "#IS NOT\n",
    "a = 10\n",
    "b = 10 \n",
    "print(a is not b)"
   ]
  },
  {
   "cell_type": "markdown",
   "id": "96447a01-e1fe-449b-9143-88faeb8fc515",
   "metadata": {},
   "source": [
    "#Q. Write a code whether a number in given variable x is odd?"
   ]
  },
  {
   "cell_type": "code",
   "execution_count": 254,
   "id": "31b29ce2-116c-4307-8bf9-bee70058ce55",
   "metadata": {},
   "outputs": [
    {
     "name": "stdout",
     "output_type": "stream",
     "text": [
      "False\n"
     ]
    }
   ],
   "source": [
    "X = 10\n",
    "print(x%2!=0)"
   ]
  },
  {
   "cell_type": "markdown",
   "id": "a65e8851-9989-4ca1-877b-cfbe70fd7531",
   "metadata": {},
   "source": [
    "#Q. Write a code whether a number in given variable x is odd and divisible by 9?"
   ]
  },
  {
   "cell_type": "code",
   "execution_count": 264,
   "id": "9ff2bdd7-81fe-443f-b17d-84ebe59f73e7",
   "metadata": {},
   "outputs": [
    {
     "name": "stdout",
     "output_type": "stream",
     "text": [
      "False\n"
     ]
    }
   ],
   "source": [
    "x = 11\n",
    "print(x%2!=0 and x%9 == 0)\n",
    "#!= is not equal to\n",
    "# == equal to"
   ]
  },
  {
   "cell_type": "markdown",
   "id": "3d7b978a-6e35-4422-a0c7-984766c93e93",
   "metadata": {},
   "source": [
    "#Write code to know if a given string has more than 10 characters?"
   ]
  },
  {
   "cell_type": "code",
   "execution_count": 269,
   "id": "bd7bb9d1-af49-474f-a0fd-48cab124e1bb",
   "metadata": {},
   "outputs": [
    {
     "name": "stdout",
     "output_type": "stream",
     "text": [
      "True\n"
     ]
    }
   ],
   "source": [
    "character = \"runamarathon\"\n",
    "print(len(character)>10)"
   ]
  },
  {
   "cell_type": "markdown",
   "id": "8489fc25-cd8e-4808-bb20-8c45fa2b7c1f",
   "metadata": {},
   "source": [
    "#Write code to know if a given string has less than 10 characters?"
   ]
  },
  {
   "cell_type": "code",
   "execution_count": 272,
   "id": "84746a2d-eeda-4a2c-bca9-0d7b75544ca6",
   "metadata": {},
   "outputs": [
    {
     "name": "stdout",
     "output_type": "stream",
     "text": [
      "False\n"
     ]
    }
   ],
   "source": [
    "character = \"runamarathon\"\n",
    "print(len(character)<10)"
   ]
  },
  {
   "cell_type": "markdown",
   "id": "24641ed5-b8f4-4962-a40f-8b22abd6262d",
   "metadata": {},
   "source": [
    "#Conditional Statement"
   ]
  },
  {
   "cell_type": "code",
   "execution_count": 287,
   "id": "420753e8-ba69-44ae-84b7-0999b150ef9f",
   "metadata": {},
   "outputs": [],
   "source": [
    "#IF\n",
    "##if conditional :\n",
    "    #code\n",
    "##else :\n",
    "     #code"
   ]
  },
  {
   "cell_type": "markdown",
   "id": "11593c0e-3120-4c6e-834f-628f461884fe",
   "metadata": {},
   "source": [
    "#Q. Write a code print whether value in a given variable x is even or odd?"
   ]
  },
  {
   "cell_type": "code",
   "execution_count": 290,
   "id": "b28a5581-7642-4e74-9adc-d889519d6629",
   "metadata": {},
   "outputs": [
    {
     "name": "stdout",
     "output_type": "stream",
     "text": [
      "odd\n"
     ]
    }
   ],
   "source": [
    "x = 835\n",
    "if (x%2!=0):\n",
    "    print(\"odd\")\n",
    "else:\n",
    "    print(\"even\")\n"
   ]
  },
  {
   "cell_type": "code",
   "execution_count": 306,
   "id": "5b83e782-f1ea-4c35-bcc4-28b840b5f646",
   "metadata": {},
   "outputs": [
    {
     "data": {
      "text/plain": [
       "'YMEDACA TCI'"
      ]
     },
     "execution_count": 306,
     "metadata": {},
     "output_type": "execute_result"
    }
   ],
   "source": [
    "y = \"ICT ACADEMY\"\n",
    "y[ : :-1]"
   ]
  },
  {
   "cell_type": "code",
   "execution_count": 308,
   "id": "f65683ae-520a-4f51-9bb9-0b02fb599dca",
   "metadata": {},
   "outputs": [
    {
     "data": {
      "text/plain": [
       "'IE'"
      ]
     },
     "execution_count": 308,
     "metadata": {},
     "output_type": "execute_result"
    }
   ],
   "source": [
    "y[0: :8]"
   ]
  },
  {
   "cell_type": "code",
   "execution_count": 310,
   "id": "216e4574-a90b-4c0d-9dee-68010b5dba49",
   "metadata": {},
   "outputs": [
    {
     "data": {
      "text/plain": [
       "'ICT ACADEM'"
      ]
     },
     "execution_count": 310,
     "metadata": {},
     "output_type": "execute_result"
    }
   ],
   "source": [
    "y[0:10]"
   ]
  },
  {
   "cell_type": "code",
   "execution_count": 312,
   "id": "d05f396b-7827-4bd2-ad49-e020ca3d8cf5",
   "metadata": {},
   "outputs": [
    {
     "data": {
      "text/plain": [
       "'ICT ACADEMY'"
      ]
     },
     "execution_count": 312,
     "metadata": {},
     "output_type": "execute_result"
    }
   ],
   "source": [
    "y[ : ]"
   ]
  },
  {
   "cell_type": "markdown",
   "id": "3ae43569-3b91-4796-bdad-ac2fb8f4d327",
   "metadata": {},
   "source": [
    "#Q. Write a code to check a given string is polindrome or not?"
   ]
  },
  {
   "cell_type": "code",
   "execution_count": 319,
   "id": "f0cd960c-a37e-4bb3-949e-083e5eb78fc2",
   "metadata": {},
   "outputs": [
    {
     "name": "stdout",
     "output_type": "stream",
     "text": [
      "it is palindrome\n"
     ]
    }
   ],
   "source": [
    "y = \"yey\"\n",
    "if (y[0:3]) == y:\n",
    "    print(\"it is palindrome\")\n",
    "else:\n",
    "    print(\"not palindrome\")\n",
    "    "
   ]
  },
  {
   "cell_type": "markdown",
   "id": "744252f4-35e0-41b4-b952-d7446466c8ef",
   "metadata": {},
   "source": [
    "#Here why we add [0:3] is beacuse it need to come reverse to got the answer. like -1"
   ]
  },
  {
   "cell_type": "code",
   "execution_count": 13,
   "id": "4e958360-f4a8-46e8-996a-2ba375367d24",
   "metadata": {},
   "outputs": [],
   "source": [
    "#IF-ELSE\n",
    "     #if condition:\n",
    "          #statement\n",
    "    #elseif condition:\n",
    "          #statement\n",
    "     #else:\n",
    "          #statement"
   ]
  },
  {
   "cell_type": "code",
   "execution_count": 15,
   "id": "9ea31829-ccb3-4247-9ffd-e294dc3d100a",
   "metadata": {},
   "outputs": [],
   "source": [
    "if 20>10:\n",
    "    pass"
   ]
  },
  {
   "cell_type": "markdown",
   "id": "297cc77b-f2ed-408a-96b2-1cbe27243df1",
   "metadata": {},
   "source": [
    "#Iteration in Python"
   ]
  },
  {
   "cell_type": "markdown",
   "id": "860427b4-1f4a-4639-a8d7-c0a390b2c3c3",
   "metadata": {},
   "source": [
    "##1. While loop"
   ]
  },
  {
   "cell_type": "code",
   "execution_count": 49,
   "id": "06a43295-94b4-4b77-a33a-e4c9819b4cd6",
   "metadata": {},
   "outputs": [
    {
     "name": "stdout",
     "output_type": "stream",
     "text": [
      "1\n",
      "2\n",
      "3\n",
      "4\n",
      "5\n",
      "6\n",
      "7\n",
      "8\n",
      "9\n"
     ]
    }
   ],
   "source": [
    "i = 1\n",
    "while i<10:\n",
    "    print(i)\n",
    "    i=i+1"
   ]
  },
  {
   "cell_type": "code",
   "execution_count": 41,
   "id": "9eda4191-8aec-472b-b8c4-64b00932c8a1",
   "metadata": {},
   "outputs": [
    {
     "name": "stdout",
     "output_type": "stream",
     "text": [
      "Hello\n",
      "Hello\n",
      "Hello\n",
      "Hello\n",
      "Hello\n"
     ]
    }
   ],
   "source": [
    "for i in range(5):\n",
    "    print(\"Hello\")"
   ]
  },
  {
   "cell_type": "code",
   "execution_count": 69,
   "id": "8aa86993-59e4-4c33-b304-473f2f9e1b91",
   "metadata": {},
   "outputs": [
    {
     "name": "stdout",
     "output_type": "stream",
     "text": [
      "100\n",
      "98\n",
      "96\n",
      "94\n",
      "92\n",
      "90\n",
      "88\n",
      "86\n",
      "84\n",
      "82\n",
      "80\n",
      "78\n",
      "76\n",
      "74\n",
      "72\n",
      "70\n",
      "68\n",
      "66\n",
      "64\n",
      "62\n",
      "60\n",
      "58\n",
      "56\n",
      "54\n",
      "52\n",
      "50\n",
      "48\n",
      "46\n",
      "44\n",
      "42\n",
      "40\n",
      "38\n",
      "36\n",
      "34\n",
      "32\n",
      "30\n",
      "28\n",
      "26\n",
      "24\n",
      "22\n",
      "20\n",
      "18\n",
      "16\n",
      "14\n",
      "12\n",
      "10\n",
      "8\n",
      "6\n",
      "4\n",
      "2\n"
     ]
    }
   ],
   "source": [
    "i = 100\n",
    "while i>0:\n",
    "    print(i)\n",
    "    i=i-2"
   ]
  },
  {
   "cell_type": "code",
   "execution_count": 63,
   "id": "5beed32e-9f8f-4039-a72b-c2824d88baf1",
   "metadata": {},
   "outputs": [
    {
     "name": "stdout",
     "output_type": "stream",
     "text": [
      "100\n",
      "98\n",
      "96\n",
      "94\n",
      "92\n",
      "90\n",
      "88\n",
      "86\n",
      "84\n",
      "82\n",
      "80\n",
      "78\n",
      "76\n",
      "74\n",
      "72\n",
      "70\n",
      "68\n",
      "66\n",
      "64\n",
      "62\n",
      "60\n",
      "58\n",
      "56\n",
      "54\n",
      "52\n",
      "50\n",
      "48\n",
      "46\n",
      "44\n",
      "42\n",
      "40\n",
      "38\n",
      "36\n",
      "34\n",
      "32\n",
      "30\n",
      "28\n",
      "26\n",
      "24\n",
      "22\n",
      "20\n",
      "18\n",
      "16\n",
      "14\n",
      "12\n",
      "10\n",
      "8\n",
      "6\n",
      "4\n",
      "2\n"
     ]
    }
   ],
   "source": [
    "for i in range(100,0,-2):\n",
    "    print(i)"
   ]
  },
  {
   "cell_type": "code",
   "execution_count": 101,
   "id": "58c11299-3024-46a1-8f93-095493146823",
   "metadata": {},
   "outputs": [
    {
     "name": "stdout",
     "output_type": "stream",
     "text": [
      "0\n",
      "1\n",
      "2\n",
      "3\n",
      "4\n",
      "5\n"
     ]
    }
   ],
   "source": [
    "i = 0\n",
    "while i<8:\n",
    "    if i == 6:\n",
    "        break\n",
    "    print(i)\n",
    "    i=i+1\n",
    "    #spaces are very important here the \"break\" condition is used for if not in while there for after if condition break statement puts in with spaces 4"
   ]
  },
  {
   "cell_type": "code",
   "execution_count": 109,
   "id": "51b4e06f-2627-4e44-a4da-3a1666206de9",
   "metadata": {},
   "outputs": [
    {
     "name": "stdout",
     "output_type": "stream",
     "text": [
      "0\n",
      "1\n",
      "2\n",
      "3\n",
      "4\n",
      "5\n"
     ]
    }
   ],
   "source": [
    "for i in range(10):\n",
    "    if i == 6:\n",
    "        break\n",
    "    print(i)"
   ]
  },
  {
   "cell_type": "code",
   "execution_count": 117,
   "id": "4b212b7f-4620-411d-80a3-97eedecd213a",
   "metadata": {},
   "outputs": [
    {
     "name": "stdout",
     "output_type": "stream",
     "text": [
      "1\n",
      "2\n",
      "3\n",
      "Outside of i\n"
     ]
    }
   ],
   "source": [
    "i = [1, 2, 3, 4, 5, 6, 7]\n",
    "for num in i:\n",
    "    if num == 4:\n",
    "        break\n",
    "    print(num)\n",
    "print(\"Outside of i\")"
   ]
  },
  {
   "cell_type": "code",
   "execution_count": 119,
   "id": "2b000f02-7928-4344-8e47-a38fe2a5299c",
   "metadata": {},
   "outputs": [
    {
     "name": "stdout",
     "output_type": "stream",
     "text": [
      "['False', 'None', 'True', 'and', 'as', 'assert', 'async', 'await', 'break', 'class', 'continue', 'def', 'del', 'elif', 'else', 'except', 'finally', 'for', 'from', 'global', 'if', 'import', 'in', 'is', 'lambda', 'nonlocal', 'not', 'or', 'pass', 'raise', 'return', 'try', 'while', 'with', 'yield']\n"
     ]
    }
   ],
   "source": [
    "import keyword\n",
    "print(keyword.kwlist)"
   ]
  },
  {
   "cell_type": "code",
   "execution_count": 125,
   "id": "e6aab0d1-b963-4bb2-9805-10ab2811ca48",
   "metadata": {},
   "outputs": [
    {
     "ename": "SyntaxError",
     "evalue": "invalid syntax (3027559735.py, line 1)",
     "output_type": "error",
     "traceback": [
      "\u001b[1;36m  Cell \u001b[1;32mIn[125], line 1\u001b[1;36m\u001b[0m\n\u001b[1;33m    a=1+5+9+8/\u001b[0m\n\u001b[1;37m              ^\u001b[0m\n\u001b[1;31mSyntaxError\u001b[0m\u001b[1;31m:\u001b[0m invalid syntax\n"
     ]
    }
   ],
   "source": [
    "a=1+5+9+8/\n",
    "+3+4+6\n",
    "print(a)"
   ]
  },
  {
   "cell_type": "code",
   "execution_count": null,
   "id": "fe1b5921-4ba1-4d9b-a5f4-e0a5536a77e4",
   "metadata": {},
   "outputs": [],
   "source": []
  },
  {
   "cell_type": "code",
   "execution_count": null,
   "id": "2b1dc20a-a321-45ac-a3c7-05754a97e286",
   "metadata": {},
   "outputs": [],
   "source": []
  },
  {
   "cell_type": "code",
   "execution_count": null,
   "id": "e11b2904-0334-42bd-bcab-0fdb2a3145ba",
   "metadata": {},
   "outputs": [],
   "source": []
  },
  {
   "cell_type": "code",
   "execution_count": null,
   "id": "a1c278e6-d756-4e98-8c93-7374ad8ab328",
   "metadata": {},
   "outputs": [],
   "source": []
  },
  {
   "cell_type": "code",
   "execution_count": null,
   "id": "31ea87f1-c6ef-469a-b140-077212c8552f",
   "metadata": {},
   "outputs": [],
   "source": []
  },
  {
   "cell_type": "code",
   "execution_count": 134,
   "id": "ca74757f-80a6-47f4-8528-c3c4456d3a21",
   "metadata": {},
   "outputs": [
    {
     "name": "stdin",
     "output_type": "stream",
     "text": [
      "Enter your name Zayr\n"
     ]
    },
    {
     "name": "stdout",
     "output_type": "stream",
     "text": [
      "welcome Zayr\n"
     ]
    }
   ],
   "source": [
    "#Standard Input\n",
    "name = input(\"Enter your name\")\n",
    "print(\"welcome\",name)"
   ]
  },
  {
   "cell_type": "code",
   "execution_count": 136,
   "id": "0c0b1a7a-6e61-41f2-9ec9-6243f675f097",
   "metadata": {},
   "outputs": [
    {
     "name": "stdout",
     "output_type": "stream",
     "text": [
      "10 20\n",
      "a= 10\n",
      "b= 20\n"
     ]
    }
   ],
   "source": [
    "a=10\n",
    "b=20\n",
    "print(a,b)\n",
    "print(\"a=\",a)\n",
    "print(\"b=\", b)"
   ]
  },
  {
   "cell_type": "code",
   "execution_count": 152,
   "id": "cb9cff73-9793-4bc0-b514-a722c665a83c",
   "metadata": {},
   "outputs": [
    {
     "name": "stdout",
     "output_type": "stream",
     "text": [
      "a=10 and b=20\n"
     ]
    }
   ],
   "source": [
    "print(\"a={} and b={}\".format(a,b))"
   ]
  },
  {
   "cell_type": "code",
   "execution_count": 144,
   "id": "19d9eed0-cc20-4311-b079-9e29da8029ff",
   "metadata": {},
   "outputs": [
    {
     "name": "stdout",
     "output_type": "stream",
     "text": [
      "Hello Zayr, welcome to DSA class\n"
     ]
    }
   ],
   "source": [
    "print(\"Hello {}, welcome to DSA class\".format(name))"
   ]
  },
  {
   "cell_type": "markdown",
   "id": "4a9f1fa7-9c10-467b-9a8e-6a13df1891b6",
   "metadata": {},
   "source": [
    "#Write program to print multiplication table (1-10) of a number input from user"
   ]
  },
  {
   "cell_type": "code",
   "execution_count": 155,
   "id": "b8895e13-3edb-4407-9348-38ae7079f132",
   "metadata": {},
   "outputs": [
    {
     "name": "stdin",
     "output_type": "stream",
     "text": [
      "Enter the number 5\n"
     ]
    },
    {
     "name": "stdout",
     "output_type": "stream",
     "text": [
      "Multiplication Table\n",
      "5 x 0 = 0\n",
      "5 x 1 = 5\n",
      "5 x 2 = 10\n",
      "5 x 3 = 15\n",
      "5 x 4 = 20\n",
      "5 x 5 = 25\n",
      "5 x 6 = 30\n",
      "5 x 7 = 35\n",
      "5 x 8 = 40\n",
      "5 x 9 = 45\n",
      "5 x 10 = 50\n"
     ]
    }
   ],
   "source": [
    "Number = int(input(\"Enter the number\"))\n",
    "print(\"Multiplication Table\")\n",
    "for num in range(0,11):\n",
    "    print( Number,\"x\",num,\"=\",num* Number)\n"
   ]
  },
  {
   "cell_type": "code",
   "execution_count": 157,
   "id": "17a308c9-abe5-4e52-a0c8-3f26ce66dddd",
   "metadata": {},
   "outputs": [
    {
     "name": "stdin",
     "output_type": "stream",
     "text": [
      "Enter the number 8\n"
     ]
    },
    {
     "name": "stdout",
     "output_type": "stream",
     "text": [
      "Multiplication Table\n",
      "8 x 0 = 0\n",
      "8 x 1 = 8\n",
      "8 x 2 = 16\n",
      "8 x 3 = 24\n",
      "8 x 4 = 32\n",
      "8 x 5 = 40\n",
      "8 x 6 = 48\n",
      "8 x 7 = 56\n",
      "8 x 8 = 64\n",
      "8 x 9 = 72\n",
      "8 x 10 = 80\n"
     ]
    }
   ],
   "source": [
    "Number = int(input(\"Enter the number\"))\n",
    "print(\"Multiplication Table\")\n",
    "for num in range(0,11):\n",
    "    print( Number,\"x\",num,\"=\",Number*num)"
   ]
  },
  {
   "cell_type": "code",
   "execution_count": 177,
   "id": "3bb808aa-c428-427e-adae-64f37743ee9f",
   "metadata": {},
   "outputs": [
    {
     "name": "stdin",
     "output_type": "stream",
     "text": [
      "Enter your name Zayr\n",
      "Enter your age 22\n"
     ]
    },
    {
     "name": "stdout",
     "output_type": "stream",
     "text": [
      "My name is Zayr i am 22 years old\n"
     ]
    }
   ],
   "source": [
    "Name = input(\"Enter your name\")\n",
    "Age = int(input(\"Enter your age\"))\n",
    "print(\"My name is\", Name, \"i am\", Age, \"years old\")"
   ]
  },
  {
   "cell_type": "code",
   "execution_count": 197,
   "id": "95f8e84c-b89f-4879-855e-debbc739bbc0",
   "metadata": {},
   "outputs": [
    {
     "name": "stdout",
     "output_type": "stream",
     "text": [
      "Now a days the climate is Good, and sometime its Extragood\n"
     ]
    }
   ],
   "source": [
    "print(\"Now a days the climate is {}, and sometime its {}\".format(\"Good\", \"Extragood\"))"
   ]
  },
  {
   "cell_type": "markdown",
   "id": "8c2338e6-5568-4c89-b94a-48218fecd0b2",
   "metadata": {},
   "source": [
    "#Functions"
   ]
  },
  {
   "cell_type": "markdown",
   "id": "4396dde9-5c6e-41e2-b8e6-6aa91aa25921",
   "metadata": {},
   "source": [
    "##1. Builtin Function\n",
    "##2. Custom Function"
   ]
  },
  {
   "cell_type": "code",
   "execution_count": 201,
   "id": "3ab863da-0918-4260-8e7b-57b0fac4d551",
   "metadata": {},
   "outputs": [],
   "source": [
    "#def functionname(parameters)\n",
    "    #statements\n",
    "#return value"
   ]
  },
  {
   "cell_type": "code",
   "execution_count": 203,
   "id": "29879e5a-0c2e-4b96-90dd-becf31e3998d",
   "metadata": {},
   "outputs": [
    {
     "data": {
      "text/plain": [
       "88"
      ]
     },
     "execution_count": 203,
     "metadata": {},
     "output_type": "execute_result"
    }
   ],
   "source": [
    "def add_num(x,y):\n",
    "    z=x+y\n",
    "    return z\n",
    "add_num(55,33)"
   ]
  },
  {
   "cell_type": "code",
   "execution_count": 207,
   "id": "ce629921-8543-4994-9f94-9d896916b914",
   "metadata": {},
   "outputs": [
    {
     "data": {
      "text/plain": [
       "240"
      ]
     },
     "execution_count": 207,
     "metadata": {},
     "output_type": "execute_result"
    }
   ],
   "source": [
    "def abc(a,c):\n",
    "    x=(a*b)\n",
    "    return x\n",
    "abc(12,10)"
   ]
  },
  {
   "cell_type": "code",
   "execution_count": 211,
   "id": "e33d96ed-13a0-4259-bb0c-df2792e116b9",
   "metadata": {},
   "outputs": [
    {
     "name": "stdout",
     "output_type": "stream",
     "text": [
      "240\n"
     ]
    }
   ],
   "source": [
    "def abc(a,c):\n",
    "    x=(a*b)\n",
    "    print(x)\n",
    "abc(12,10)"
   ]
  },
  {
   "cell_type": "code",
   "execution_count": 223,
   "id": "8dd1262e-1c3f-4843-b1b2-a56d4a995152",
   "metadata": {},
   "outputs": [
    {
     "data": {
      "text/plain": [
       "22"
      ]
     },
     "execution_count": 223,
     "metadata": {},
     "output_type": "execute_result"
    }
   ],
   "source": [
    "def add_num(a,b):\n",
    "    '''This function add two numbers'''\n",
    "    x=(a+b)\n",
    "    return x\n",
    "add_num(10,12)    "
   ]
  },
  {
   "cell_type": "code",
   "execution_count": 225,
   "id": "cd7a1b51-97cf-4b3c-8b19-da287a91ef58",
   "metadata": {},
   "outputs": [],
   "source": [
    "#print(add_num.___doc___)"
   ]
  },
  {
   "cell_type": "code",
   "execution_count": 239,
   "id": "254adca5-1893-4e6b-9bd1-67c02be08d2c",
   "metadata": {},
   "outputs": [
    {
     "name": "stdout",
     "output_type": "stream",
     "text": [
      "This function add two numbers\n"
     ]
    }
   ],
   "source": [
    "def add_num(a,b):\n",
    "    '''This function add two numbers'''\n",
    "    x=(a+b)\n",
    "    return x\n",
    "add_num(10,12)\n",
    "print(add_num.__doc__)"
   ]
  },
  {
   "cell_type": "code",
   "execution_count": 253,
   "id": "69c5177d-b7eb-493b-a11a-c2e00b5589b2",
   "metadata": {},
   "outputs": [],
   "source": [
    "x = [3, 4, -7, 0, 1]\n",
    "def mean(x):\n",
    "    y = sum(x)\n",
    "    w = len(x)\n",
    "    v = (y/w)\n",
    "    return v"
   ]
  },
  {
   "cell_type": "code",
   "execution_count": 255,
   "id": "74494006-f9dd-4c79-8842-532cfa2aab12",
   "metadata": {},
   "outputs": [
    {
     "data": {
      "text/plain": [
       "0.2"
      ]
     },
     "execution_count": 255,
     "metadata": {},
     "output_type": "execute_result"
    }
   ],
   "source": [
    "mean(x)"
   ]
  },
  {
   "cell_type": "code",
   "execution_count": 267,
   "id": "dd7468da-b73b-44da-9f66-00266519aa34",
   "metadata": {},
   "outputs": [
    {
     "name": "stdout",
     "output_type": "stream",
     "text": [
      "0.2\n"
     ]
    }
   ],
   "source": [
    "#OUT OF TODAY CYLLABUS\n",
    "import statistics\n",
    "x = [3, 4, -7, 0, 1]\n",
    "def mean(x):\n",
    "    return statistics.mean(x)\n",
    "print(mean(x))"
   ]
  },
  {
   "cell_type": "code",
   "execution_count": 299,
   "id": "41d53651-a329-4e04-8adc-0d2ea9746b0a",
   "metadata": {},
   "outputs": [],
   "source": [
    "x = [3, 4, -7, 0, 1]\n",
    "def var(x):\n",
    "    meann=mean(x)\n",
    "    for b in x:\n",
    "        b= meann-x\n",
    "        b=b*b\n",
    "        sum(0)\n",
    "        sum=b+sum\n",
    "        sum/len(x)"
   ]
  },
  {
   "cell_type": "code",
   "execution_count": 297,
   "id": "d84b51fc-9040-47ea-a9db-b7d4bd4af59d",
   "metadata": {
    "scrolled": true
   },
   "outputs": [
    {
     "ename": "TypeError",
     "evalue": "unsupported operand type(s) for -: 'float' and 'list'",
     "output_type": "error",
     "traceback": [
      "\u001b[1;31m---------------------------------------------------------------------------\u001b[0m",
      "\u001b[1;31mTypeError\u001b[0m                                 Traceback (most recent call last)",
      "Cell \u001b[1;32mIn[297], line 1\u001b[0m\n\u001b[1;32m----> 1\u001b[0m var(x)\n",
      "Cell \u001b[1;32mIn[295], line 4\u001b[0m, in \u001b[0;36mvar\u001b[1;34m(x)\u001b[0m\n\u001b[0;32m      2\u001b[0m \u001b[38;5;28;01mdef\u001b[39;00m \u001b[38;5;21mvar\u001b[39m(x):\n\u001b[0;32m      3\u001b[0m     \u001b[38;5;28;01mfor\u001b[39;00m b \u001b[38;5;129;01min\u001b[39;00m x:\n\u001b[1;32m----> 4\u001b[0m         b\u001b[38;5;241m=\u001b[39m mean(x)\u001b[38;5;241m-\u001b[39mx\n\u001b[0;32m      5\u001b[0m         b\u001b[38;5;241m=\u001b[39mb\u001b[38;5;241m*\u001b[39mb\n\u001b[0;32m      6\u001b[0m         \u001b[38;5;28msum\u001b[39m(\u001b[38;5;241m0\u001b[39m)\n",
      "\u001b[1;31mTypeError\u001b[0m: unsupported operand type(s) for -: 'float' and 'list'"
     ]
    }
   ],
   "source": [
    "var(x)"
   ]
  },
  {
   "cell_type": "code",
   "execution_count": null,
   "id": "bbe2a796-a0df-4ca4-9436-a781c625f70c",
   "metadata": {},
   "outputs": [],
   "source": []
  }
 ],
 "metadata": {
  "kernelspec": {
   "display_name": "Python 3 (ipykernel)",
   "language": "python",
   "name": "python3"
  },
  "language_info": {
   "codemirror_mode": {
    "name": "ipython",
    "version": 3
   },
   "file_extension": ".py",
   "mimetype": "text/x-python",
   "name": "python",
   "nbconvert_exporter": "python",
   "pygments_lexer": "ipython3",
   "version": "3.12.7"
  }
 },
 "nbformat": 4,
 "nbformat_minor": 5
}
